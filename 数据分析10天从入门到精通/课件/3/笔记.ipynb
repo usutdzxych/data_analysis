{
 "cells": [
  {
   "cell_type": "markdown",
   "metadata": {},
   "source": [
    "### 需求：股票分析\n",
    "- 使用tushare包获取某股票的历史行情数据。\n",
    "- 输出该股票所有收盘比开盘上涨3%以上的日期。\n",
    "- 输出该股票所有开盘比前日收盘跌幅超过2%的日期。\n",
    "- 假如我从2010年1月1日开始，每月第一个交易日买入1手股票，每年最后一个交易日卖出所有股票，到今天为止，我的收益如何？"
   ]
  },
  {
   "cell_type": "markdown",
   "metadata": {},
   "source": [
    "- tushare财经数据接口包\n",
    "    - pip install tushare"
   ]
  },
  {
   "cell_type": "code",
   "execution_count": 12,
   "metadata": {},
   "outputs": [],
   "source": [
    "import tushare as ts\n",
    "import pandas as pd\n",
    "from pandas import DataFrame,Series\n",
    "import numpy as np"
   ]
  },
  {
   "cell_type": "code",
   "execution_count": 13,
   "metadata": {},
   "outputs": [
    {
     "data": {
      "text/html": [
       "<div>\n",
       "<style scoped>\n",
       "    .dataframe tbody tr th:only-of-type {\n",
       "        vertical-align: middle;\n",
       "    }\n",
       "\n",
       "    .dataframe tbody tr th {\n",
       "        vertical-align: top;\n",
       "    }\n",
       "\n",
       "    .dataframe thead th {\n",
       "        text-align: right;\n",
       "    }\n",
       "</style>\n",
       "<table border=\"1\" class=\"dataframe\">\n",
       "  <thead>\n",
       "    <tr style=\"text-align: right;\">\n",
       "      <th></th>\n",
       "      <th>ts_code</th>\n",
       "      <th>trade_date</th>\n",
       "      <th>open</th>\n",
       "      <th>high</th>\n",
       "      <th>low</th>\n",
       "      <th>close</th>\n",
       "      <th>pre_close</th>\n",
       "      <th>change</th>\n",
       "      <th>pct_chg</th>\n",
       "      <th>vol</th>\n",
       "      <th>amount</th>\n",
       "    </tr>\n",
       "  </thead>\n",
       "  <tbody>\n",
       "    <tr>\n",
       "      <th>0</th>\n",
       "      <td>688285.SH</td>\n",
       "      <td>20230818</td>\n",
       "      <td>8.79</td>\n",
       "      <td>10.37</td>\n",
       "      <td>8.79</td>\n",
       "      <td>10.37</td>\n",
       "      <td>8.64</td>\n",
       "      <td>1.73</td>\n",
       "      <td>20.0231</td>\n",
       "      <td>301200.11</td>\n",
       "      <td>301320.906</td>\n",
       "    </tr>\n",
       "    <tr>\n",
       "      <th>1</th>\n",
       "      <td>688285.SH</td>\n",
       "      <td>20230817</td>\n",
       "      <td>8.50</td>\n",
       "      <td>8.65</td>\n",
       "      <td>8.38</td>\n",
       "      <td>8.64</td>\n",
       "      <td>8.49</td>\n",
       "      <td>0.15</td>\n",
       "      <td>1.7668</td>\n",
       "      <td>17946.58</td>\n",
       "      <td>15298.038</td>\n",
       "    </tr>\n",
       "    <tr>\n",
       "      <th>2</th>\n",
       "      <td>688285.SH</td>\n",
       "      <td>20230816</td>\n",
       "      <td>8.62</td>\n",
       "      <td>8.64</td>\n",
       "      <td>8.54</td>\n",
       "      <td>8.57</td>\n",
       "      <td>8.65</td>\n",
       "      <td>-0.08</td>\n",
       "      <td>-0.9249</td>\n",
       "      <td>12581.94</td>\n",
       "      <td>10801.823</td>\n",
       "    </tr>\n",
       "    <tr>\n",
       "      <th>3</th>\n",
       "      <td>688285.SH</td>\n",
       "      <td>20230815</td>\n",
       "      <td>8.74</td>\n",
       "      <td>8.79</td>\n",
       "      <td>8.60</td>\n",
       "      <td>8.65</td>\n",
       "      <td>8.74</td>\n",
       "      <td>-0.09</td>\n",
       "      <td>-1.0297</td>\n",
       "      <td>10826.49</td>\n",
       "      <td>9388.132</td>\n",
       "    </tr>\n",
       "    <tr>\n",
       "      <th>4</th>\n",
       "      <td>688285.SH</td>\n",
       "      <td>20230814</td>\n",
       "      <td>8.70</td>\n",
       "      <td>8.75</td>\n",
       "      <td>8.59</td>\n",
       "      <td>8.74</td>\n",
       "      <td>8.73</td>\n",
       "      <td>0.01</td>\n",
       "      <td>0.1145</td>\n",
       "      <td>15490.31</td>\n",
       "      <td>13424.029</td>\n",
       "    </tr>\n",
       "  </tbody>\n",
       "</table>\n",
       "</div>"
      ],
      "text/plain": [
       "     ts_code trade_date  open   high   low  close  pre_close  change  pct_chg  \\\n",
       "0  688285.SH   20230818  8.79  10.37  8.79  10.37       8.64    1.73  20.0231   \n",
       "1  688285.SH   20230817  8.50   8.65  8.38   8.64       8.49    0.15   1.7668   \n",
       "2  688285.SH   20230816  8.62   8.64  8.54   8.57       8.65   -0.08  -0.9249   \n",
       "3  688285.SH   20230815  8.74   8.79  8.60   8.65       8.74   -0.09  -1.0297   \n",
       "4  688285.SH   20230814  8.70   8.75  8.59   8.74       8.73    0.01   0.1145   \n",
       "\n",
       "         vol      amount  \n",
       "0  301200.11  301320.906  \n",
       "1   17946.58   15298.038  \n",
       "2   12581.94   10801.823  \n",
       "3   10826.49    9388.132  \n",
       "4   15490.31   13424.029  "
      ]
     },
     "execution_count": 13,
     "metadata": {},
     "output_type": "execute_result"
    }
   ],
   "source": [
    "#获取某只股票的历史行情数据\n",
    "#code:字符串形式的股票代码\n",
    "pro = ts.pro_api('ef068dbae7c0c66fb29924d1cc4dd894b34925529ef69e830b8ec657')\n",
    "df = pro.daily(ts_code='688285.SH', start_date='20200101')\n",
    "df.head()"
   ]
  },
  {
   "cell_type": "code",
   "execution_count": 15,
   "metadata": {},
   "outputs": [],
   "source": [
    "#将互联网上获取的股票数据存储到本地\n",
    "df.to_csv('./高铁电气.csv')#调用to_xxx方法将df中的数据写入到本地进行存储"
   ]
  },
  {
   "cell_type": "code",
   "execution_count": 16,
   "metadata": {
    "scrolled": true
   },
   "outputs": [
    {
     "data": {
      "text/html": [
       "<div>\n",
       "<style scoped>\n",
       "    .dataframe tbody tr th:only-of-type {\n",
       "        vertical-align: middle;\n",
       "    }\n",
       "\n",
       "    .dataframe tbody tr th {\n",
       "        vertical-align: top;\n",
       "    }\n",
       "\n",
       "    .dataframe thead th {\n",
       "        text-align: right;\n",
       "    }\n",
       "</style>\n",
       "<table border=\"1\" class=\"dataframe\">\n",
       "  <thead>\n",
       "    <tr style=\"text-align: right;\">\n",
       "      <th></th>\n",
       "      <th>Unnamed: 0</th>\n",
       "      <th>ts_code</th>\n",
       "      <th>trade_date</th>\n",
       "      <th>open</th>\n",
       "      <th>high</th>\n",
       "      <th>low</th>\n",
       "      <th>close</th>\n",
       "      <th>pre_close</th>\n",
       "      <th>change</th>\n",
       "      <th>pct_chg</th>\n",
       "      <th>vol</th>\n",
       "      <th>amount</th>\n",
       "    </tr>\n",
       "  </thead>\n",
       "  <tbody>\n",
       "    <tr>\n",
       "      <th>0</th>\n",
       "      <td>0</td>\n",
       "      <td>688285.SH</td>\n",
       "      <td>20230818</td>\n",
       "      <td>8.79</td>\n",
       "      <td>10.37</td>\n",
       "      <td>8.79</td>\n",
       "      <td>10.37</td>\n",
       "      <td>8.64</td>\n",
       "      <td>1.73</td>\n",
       "      <td>20.0231</td>\n",
       "      <td>301200.11</td>\n",
       "      <td>301320.906</td>\n",
       "    </tr>\n",
       "    <tr>\n",
       "      <th>1</th>\n",
       "      <td>1</td>\n",
       "      <td>688285.SH</td>\n",
       "      <td>20230817</td>\n",
       "      <td>8.50</td>\n",
       "      <td>8.65</td>\n",
       "      <td>8.38</td>\n",
       "      <td>8.64</td>\n",
       "      <td>8.49</td>\n",
       "      <td>0.15</td>\n",
       "      <td>1.7668</td>\n",
       "      <td>17946.58</td>\n",
       "      <td>15298.038</td>\n",
       "    </tr>\n",
       "    <tr>\n",
       "      <th>2</th>\n",
       "      <td>2</td>\n",
       "      <td>688285.SH</td>\n",
       "      <td>20230816</td>\n",
       "      <td>8.62</td>\n",
       "      <td>8.64</td>\n",
       "      <td>8.54</td>\n",
       "      <td>8.57</td>\n",
       "      <td>8.65</td>\n",
       "      <td>-0.08</td>\n",
       "      <td>-0.9249</td>\n",
       "      <td>12581.94</td>\n",
       "      <td>10801.823</td>\n",
       "    </tr>\n",
       "    <tr>\n",
       "      <th>3</th>\n",
       "      <td>3</td>\n",
       "      <td>688285.SH</td>\n",
       "      <td>20230815</td>\n",
       "      <td>8.74</td>\n",
       "      <td>8.79</td>\n",
       "      <td>8.60</td>\n",
       "      <td>8.65</td>\n",
       "      <td>8.74</td>\n",
       "      <td>-0.09</td>\n",
       "      <td>-1.0297</td>\n",
       "      <td>10826.49</td>\n",
       "      <td>9388.132</td>\n",
       "    </tr>\n",
       "    <tr>\n",
       "      <th>4</th>\n",
       "      <td>4</td>\n",
       "      <td>688285.SH</td>\n",
       "      <td>20230814</td>\n",
       "      <td>8.70</td>\n",
       "      <td>8.75</td>\n",
       "      <td>8.59</td>\n",
       "      <td>8.74</td>\n",
       "      <td>8.73</td>\n",
       "      <td>0.01</td>\n",
       "      <td>0.1145</td>\n",
       "      <td>15490.31</td>\n",
       "      <td>13424.029</td>\n",
       "    </tr>\n",
       "  </tbody>\n",
       "</table>\n",
       "</div>"
      ],
      "text/plain": [
       "   Unnamed: 0    ts_code  trade_date  open   high   low  close  pre_close  \\\n",
       "0           0  688285.SH    20230818  8.79  10.37  8.79  10.37       8.64   \n",
       "1           1  688285.SH    20230817  8.50   8.65  8.38   8.64       8.49   \n",
       "2           2  688285.SH    20230816  8.62   8.64  8.54   8.57       8.65   \n",
       "3           3  688285.SH    20230815  8.74   8.79  8.60   8.65       8.74   \n",
       "4           4  688285.SH    20230814  8.70   8.75  8.59   8.74       8.73   \n",
       "\n",
       "   change  pct_chg        vol      amount  \n",
       "0    1.73  20.0231  301200.11  301320.906  \n",
       "1    0.15   1.7668   17946.58   15298.038  \n",
       "2   -0.08  -0.9249   12581.94   10801.823  \n",
       "3   -0.09  -1.0297   10826.49    9388.132  \n",
       "4    0.01   0.1145   15490.31   13424.029  "
      ]
     },
     "execution_count": 16,
     "metadata": {},
     "output_type": "execute_result"
    }
   ],
   "source": [
    "#将本地存储的数据读入到df\n",
    "df = pd.read_csv('./高铁电气.csv')\n",
    "df.head()"
   ]
  },
  {
   "cell_type": "code",
   "execution_count": 17,
   "metadata": {},
   "outputs": [],
   "source": [
    "#需要对读取出来的数据进行相关的处理"
   ]
  },
  {
   "cell_type": "code",
   "execution_count": 18,
   "metadata": {},
   "outputs": [],
   "source": [
    "#删除df中指定的一列\n",
    "df.drop(labels='Unnamed: 0',axis=1,inplace=True)"
   ]
  },
  {
   "cell_type": "code",
   "execution_count": 20,
   "metadata": {
    "scrolled": true
   },
   "outputs": [
    {
     "name": "stdout",
     "output_type": "stream",
     "text": [
      "<class 'pandas.core.frame.DataFrame'>\n",
      "RangeIndex: 448 entries, 0 to 447\n",
      "Data columns (total 11 columns):\n",
      " #   Column      Non-Null Count  Dtype  \n",
      "---  ------      --------------  -----  \n",
      " 0   ts_code     448 non-null    object \n",
      " 1   trade_date  448 non-null    int64  \n",
      " 2   open        448 non-null    float64\n",
      " 3   high        448 non-null    float64\n",
      " 4   low         448 non-null    float64\n",
      " 5   close       448 non-null    float64\n",
      " 6   pre_close   448 non-null    float64\n",
      " 7   change      448 non-null    float64\n",
      " 8   pct_chg     448 non-null    float64\n",
      " 9   vol         448 non-null    float64\n",
      " 10  amount      448 non-null    float64\n",
      "dtypes: float64(9), int64(1), object(1)\n",
      "memory usage: 38.6+ KB\n"
     ]
    }
   ],
   "source": [
    "#查看每一列的数据类型\n",
    "df.info()"
   ]
  },
  {
   "cell_type": "code",
   "execution_count": 21,
   "metadata": {},
   "outputs": [],
   "source": [
    "#将date列转为时间序列类型\n",
    "df['trade_date'] = pd.to_datetime(df['trade_date'].astype('str'))"
   ]
  },
  {
   "cell_type": "code",
   "execution_count": 37,
   "metadata": {
    "scrolled": true
   },
   "outputs": [
    {
     "name": "stdout",
     "output_type": "stream",
     "text": [
      "<class 'pandas.core.frame.DataFrame'>\n",
      "DatetimeIndex: 448 entries, 2023-08-18 to 2021-10-20\n",
      "Data columns (total 10 columns):\n",
      " #   Column     Non-Null Count  Dtype  \n",
      "---  ------     --------------  -----  \n",
      " 0   ts_code    448 non-null    object \n",
      " 1   open       448 non-null    float64\n",
      " 2   high       448 non-null    float64\n",
      " 3   low        448 non-null    float64\n",
      " 4   close      448 non-null    float64\n",
      " 5   pre_close  448 non-null    float64\n",
      " 6   change     448 non-null    float64\n",
      " 7   pct_chg    448 non-null    float64\n",
      " 8   vol        448 non-null    float64\n",
      " 9   amount     448 non-null    float64\n",
      "dtypes: float64(9), object(1)\n",
      "memory usage: 38.5+ KB\n"
     ]
    }
   ],
   "source": [
    "df.info()"
   ]
  },
  {
   "cell_type": "code",
   "execution_count": 49,
   "metadata": {},
   "outputs": [
    {
     "ename": "KeyError",
     "evalue": "\"None of ['trade_date'] are in the columns\"",
     "output_type": "error",
     "traceback": [
      "\u001b[1;31m---------------------------------------------------------------------------\u001b[0m",
      "\u001b[1;31mKeyError\u001b[0m                                  Traceback (most recent call last)",
      "Cell \u001b[1;32mIn[49], line 2\u001b[0m\n\u001b[0;32m      1\u001b[0m \u001b[38;5;66;03m#将date列作为源数据的行索引\u001b[39;00m\n\u001b[1;32m----> 2\u001b[0m \u001b[43mdf\u001b[49m\u001b[38;5;241;43m.\u001b[39;49m\u001b[43mset_index\u001b[49m\u001b[43m(\u001b[49m\u001b[38;5;124;43m'\u001b[39;49m\u001b[38;5;124;43mtrade_date\u001b[39;49m\u001b[38;5;124;43m'\u001b[39;49m\u001b[43m,\u001b[49m\u001b[43minplace\u001b[49m\u001b[38;5;241;43m=\u001b[39;49m\u001b[38;5;28;43;01mTrue\u001b[39;49;00m\u001b[43m)\u001b[49m\n",
      "File \u001b[1;32mH:\\anaconda\\envs\\learning\\lib\\site-packages\\pandas\\core\\frame.py:5859\u001b[0m, in \u001b[0;36mDataFrame.set_index\u001b[1;34m(self, keys, drop, append, inplace, verify_integrity)\u001b[0m\n\u001b[0;32m   5856\u001b[0m                 missing\u001b[38;5;241m.\u001b[39mappend(col)\n\u001b[0;32m   5858\u001b[0m \u001b[38;5;28;01mif\u001b[39;00m missing:\n\u001b[1;32m-> 5859\u001b[0m     \u001b[38;5;28;01mraise\u001b[39;00m \u001b[38;5;167;01mKeyError\u001b[39;00m(\u001b[38;5;124mf\u001b[39m\u001b[38;5;124m\"\u001b[39m\u001b[38;5;124mNone of \u001b[39m\u001b[38;5;132;01m{\u001b[39;00mmissing\u001b[38;5;132;01m}\u001b[39;00m\u001b[38;5;124m are in the columns\u001b[39m\u001b[38;5;124m\"\u001b[39m)\n\u001b[0;32m   5861\u001b[0m \u001b[38;5;28;01mif\u001b[39;00m inplace:\n\u001b[0;32m   5862\u001b[0m     frame \u001b[38;5;241m=\u001b[39m \u001b[38;5;28mself\u001b[39m\n",
      "\u001b[1;31mKeyError\u001b[0m: \"None of ['trade_date'] are in the columns\""
     ]
    }
   ],
   "source": [
    "#将date列作为源数据的行索引\n",
    "df.set_index('trade_date',inplace=True)"
   ]
  },
  {
   "cell_type": "code",
   "execution_count": 50,
   "metadata": {},
   "outputs": [
    {
     "data": {
      "text/html": [
       "<div>\n",
       "<style scoped>\n",
       "    .dataframe tbody tr th:only-of-type {\n",
       "        vertical-align: middle;\n",
       "    }\n",
       "\n",
       "    .dataframe tbody tr th {\n",
       "        vertical-align: top;\n",
       "    }\n",
       "\n",
       "    .dataframe thead th {\n",
       "        text-align: right;\n",
       "    }\n",
       "</style>\n",
       "<table border=\"1\" class=\"dataframe\">\n",
       "  <thead>\n",
       "    <tr style=\"text-align: right;\">\n",
       "      <th></th>\n",
       "      <th>ts_code</th>\n",
       "      <th>open</th>\n",
       "      <th>high</th>\n",
       "      <th>low</th>\n",
       "      <th>close</th>\n",
       "      <th>pre_close</th>\n",
       "      <th>change</th>\n",
       "      <th>pct_chg</th>\n",
       "      <th>vol</th>\n",
       "      <th>amount</th>\n",
       "    </tr>\n",
       "    <tr>\n",
       "      <th>trade_date</th>\n",
       "      <th></th>\n",
       "      <th></th>\n",
       "      <th></th>\n",
       "      <th></th>\n",
       "      <th></th>\n",
       "      <th></th>\n",
       "      <th></th>\n",
       "      <th></th>\n",
       "      <th></th>\n",
       "      <th></th>\n",
       "    </tr>\n",
       "  </thead>\n",
       "  <tbody>\n",
       "    <tr>\n",
       "      <th>2023-08-18</th>\n",
       "      <td>688285.SH</td>\n",
       "      <td>8.79</td>\n",
       "      <td>10.37</td>\n",
       "      <td>8.79</td>\n",
       "      <td>10.37</td>\n",
       "      <td>8.64</td>\n",
       "      <td>1.73</td>\n",
       "      <td>20.0231</td>\n",
       "      <td>301200.11</td>\n",
       "      <td>301320.906</td>\n",
       "    </tr>\n",
       "    <tr>\n",
       "      <th>2023-08-17</th>\n",
       "      <td>688285.SH</td>\n",
       "      <td>8.50</td>\n",
       "      <td>8.65</td>\n",
       "      <td>8.38</td>\n",
       "      <td>8.64</td>\n",
       "      <td>8.49</td>\n",
       "      <td>0.15</td>\n",
       "      <td>1.7668</td>\n",
       "      <td>17946.58</td>\n",
       "      <td>15298.038</td>\n",
       "    </tr>\n",
       "    <tr>\n",
       "      <th>2023-08-16</th>\n",
       "      <td>688285.SH</td>\n",
       "      <td>8.62</td>\n",
       "      <td>8.64</td>\n",
       "      <td>8.54</td>\n",
       "      <td>8.57</td>\n",
       "      <td>8.65</td>\n",
       "      <td>-0.08</td>\n",
       "      <td>-0.9249</td>\n",
       "      <td>12581.94</td>\n",
       "      <td>10801.823</td>\n",
       "    </tr>\n",
       "    <tr>\n",
       "      <th>2023-08-15</th>\n",
       "      <td>688285.SH</td>\n",
       "      <td>8.74</td>\n",
       "      <td>8.79</td>\n",
       "      <td>8.60</td>\n",
       "      <td>8.65</td>\n",
       "      <td>8.74</td>\n",
       "      <td>-0.09</td>\n",
       "      <td>-1.0297</td>\n",
       "      <td>10826.49</td>\n",
       "      <td>9388.132</td>\n",
       "    </tr>\n",
       "    <tr>\n",
       "      <th>2023-08-14</th>\n",
       "      <td>688285.SH</td>\n",
       "      <td>8.70</td>\n",
       "      <td>8.75</td>\n",
       "      <td>8.59</td>\n",
       "      <td>8.74</td>\n",
       "      <td>8.73</td>\n",
       "      <td>0.01</td>\n",
       "      <td>0.1145</td>\n",
       "      <td>15490.31</td>\n",
       "      <td>13424.029</td>\n",
       "    </tr>\n",
       "  </tbody>\n",
       "</table>\n",
       "</div>"
      ],
      "text/plain": [
       "              ts_code  open   high   low  close  pre_close  change  pct_chg  \\\n",
       "trade_date                                                                    \n",
       "2023-08-18  688285.SH  8.79  10.37  8.79  10.37       8.64    1.73  20.0231   \n",
       "2023-08-17  688285.SH  8.50   8.65  8.38   8.64       8.49    0.15   1.7668   \n",
       "2023-08-16  688285.SH  8.62   8.64  8.54   8.57       8.65   -0.08  -0.9249   \n",
       "2023-08-15  688285.SH  8.74   8.79  8.60   8.65       8.74   -0.09  -1.0297   \n",
       "2023-08-14  688285.SH  8.70   8.75  8.59   8.74       8.73    0.01   0.1145   \n",
       "\n",
       "                  vol      amount  \n",
       "trade_date                         \n",
       "2023-08-18  301200.11  301320.906  \n",
       "2023-08-17   17946.58   15298.038  \n",
       "2023-08-16   12581.94   10801.823  \n",
       "2023-08-15   10826.49    9388.132  \n",
       "2023-08-14   15490.31   13424.029  "
      ]
     },
     "execution_count": 50,
     "metadata": {},
     "output_type": "execute_result"
    }
   ],
   "source": [
    "df.head()"
   ]
  },
  {
   "cell_type": "code",
   "execution_count": 51,
   "metadata": {},
   "outputs": [
    {
     "data": {
      "text/plain": [
       "trade_date\n",
       "2023-08-18    False\n",
       "2023-08-17    False\n",
       "2023-08-16    False\n",
       "2023-08-15    False\n",
       "2023-08-14    False\n",
       "              ...  \n",
       "2021-10-26    False\n",
       "2021-10-25     True\n",
       "2021-10-22    False\n",
       "2021-10-21     True\n",
       "2021-10-20     True\n",
       "Length: 448, dtype: bool"
      ]
     },
     "execution_count": 51,
     "metadata": {},
     "output_type": "execute_result"
    }
   ],
   "source": [
    "#输出该股票所有收盘比开盘上涨3%以上的日期\n",
    "#伪代码：（收盘-开盘）/开盘 > 0.03\n",
    "(df['open'] - df['close']) / df['open'] > 0.03\n",
    "\n"
   ]
  },
  {
   "cell_type": "code",
   "execution_count": 52,
   "metadata": {},
   "outputs": [
    {
     "data": {
      "text/plain": [
       "DatetimeIndex(['2023-05-16', '2023-05-12', '2023-05-09', '2023-04-19',\n",
       "               '2023-03-27', '2023-03-21', '2023-02-16', '2022-10-28',\n",
       "               '2022-09-26', '2022-09-15', '2022-08-31', '2022-08-24',\n",
       "               '2022-08-02', '2022-06-09', '2022-06-08', '2022-06-01',\n",
       "               '2022-05-24', '2022-04-28', '2022-04-26', '2022-04-25',\n",
       "               '2022-03-15', '2022-03-08', '2022-01-25', '2022-01-20',\n",
       "               '2022-01-18', '2022-01-07', '2021-12-06', '2021-10-28',\n",
       "               '2021-10-25', '2021-10-21', '2021-10-20'],\n",
       "              dtype='datetime64[ns]', name='trade_date', freq=None)"
      ]
     },
     "execution_count": 52,
     "metadata": {},
     "output_type": "execute_result"
    }
   ],
   "source": [
    "#在分析的过程中如果产生了boolean值则下一步马上将布尔值作为源数据的行索引\n",
    " #如果布尔值作为df的行索引，则可以取出true对应的行数据，忽略false对应的行数据\n",
    "df.loc[(df['open'] - df['close']) / df['open'] > 0.03] #获取了True对应的行数据（满足需求的行数据）\n",
    "\n",
    "df.loc[(df['open'] - df['close']) / df['open'] > 0.03].index #df的行数据"
   ]
  },
  {
   "cell_type": "code",
   "execution_count": 53,
   "metadata": {},
   "outputs": [
    {
     "data": {
      "text/plain": [
       "DatetimeIndex(['2023-08-17', '2023-07-28', '2023-07-24', '2023-06-29',\n",
       "               '2023-06-28', '2023-06-27', '2023-06-26', '2023-06-12',\n",
       "               '2023-06-07', '2023-06-06', '2023-05-30', '2023-05-29',\n",
       "               '2023-05-17', '2023-04-28', '2023-04-20', '2023-04-19',\n",
       "               '2023-04-17', '2023-04-14', '2023-04-13', '2023-04-04',\n",
       "               '2023-04-03', '2023-03-31', '2023-03-16', '2023-03-15',\n",
       "               '2023-03-14', '2023-03-01', '2023-02-28', '2023-02-10',\n",
       "               '2023-02-09', '2023-01-03', '2022-12-05', '2022-12-02',\n",
       "               '2022-11-28', '2022-11-23', '2022-11-22', '2022-11-07',\n",
       "               '2022-11-04', '2022-11-03', '2022-11-02', '2022-10-31',\n",
       "               '2022-10-20', '2022-10-17', '2022-10-14', '2022-10-13',\n",
       "               '2022-10-12', '2022-10-11', '2022-08-29', '2022-08-08',\n",
       "               '2022-08-05', '2022-08-03', '2022-07-19', '2022-07-18',\n",
       "               '2022-07-13', '2022-07-07', '2022-06-23', '2022-06-02',\n",
       "               '2022-05-31', '2022-05-30', '2022-05-27', '2022-05-25',\n",
       "               '2022-05-18', '2022-05-13', '2022-05-12', '2022-05-10',\n",
       "               '2022-05-09', '2022-05-06', '2022-04-18', '2022-03-21',\n",
       "               '2022-03-18', '2022-03-17', '2022-03-16', '2022-02-18',\n",
       "               '2022-02-17', '2022-02-08', '2022-02-07', '2022-01-28',\n",
       "               '2022-01-14', '2022-01-05', '2022-01-04', '2021-12-29',\n",
       "               '2021-12-23', '2021-12-21', '2021-12-20', '2021-12-14',\n",
       "               '2021-11-24', '2021-11-22', '2021-11-19', '2021-11-12',\n",
       "               '2021-11-11', '2021-11-02', '2021-11-01'],\n",
       "              dtype='datetime64[ns]', name='trade_date', freq=None)"
      ]
     },
     "execution_count": 53,
     "metadata": {},
     "output_type": "execute_result"
    }
   ],
   "source": [
    "#输出该股票所有开盘比前日收盘跌幅超过2%的日期\n",
    "#伪代码：(开盘-前日收盘)/前日收盘 < -0.02\n",
    "(df['open'] - df['close'].shift(1))/df['close'].shift(1) < -0.02\n",
    "#将布尔值作为源数据的行索引取出True对应的行数据\n",
    "df.loc[(df['open'] - df['close'].shift(1))/df['close'].shift(1) < -0.02]\n",
    "\n",
    "df.loc[(df['open'] - df['close'].shift(1))/df['close'].shift(1) < -0.02].index"
   ]
  },
  {
   "cell_type": "markdown",
   "metadata": {},
   "source": [
    "- 需求：假如我从2010年1月1日开始，每月第一个交易日买入1手股票，每年最后一个交易日卖出所有股票，到今天为止，我的收益如何？\n",
    "- 分析：\n",
    "    - 时间节点：2010-2020\n",
    "    - 一手股票：100支股票\n",
    "    - 买：\n",
    "        - 一个完整的年需要买入1200支股票\n",
    "    - 卖：\n",
    "        - 一个完整的年需要卖出1200支股票\n",
    "    - 买卖股票的单价：\n",
    "        - 开盘价"
   ]
  },
  {
   "cell_type": "code",
   "execution_count": 54,
   "metadata": {},
   "outputs": [
    {
     "ename": "KeyError",
     "evalue": "'Value based partial slicing on non-monotonic DatetimeIndexes with non-existing keys is not allowed.'",
     "output_type": "error",
     "traceback": [
      "\u001b[1;31m---------------------------------------------------------------------------\u001b[0m",
      "\u001b[1;31mKeyError\u001b[0m                                  Traceback (most recent call last)",
      "Cell \u001b[1;32mIn[54], line 1\u001b[0m\n\u001b[1;32m----> 1\u001b[0m new_df \u001b[38;5;241m=\u001b[39m \u001b[43mdf\u001b[49m\u001b[38;5;241;43m.\u001b[39;49m\u001b[43mloc\u001b[49m\u001b[43m[\u001b[49m\u001b[38;5;124;43m'\u001b[39;49m\u001b[38;5;124;43m2022-01\u001b[39;49m\u001b[38;5;124;43m'\u001b[39;49m\u001b[43m:\u001b[49m\u001b[38;5;124;43m'\u001b[39;49m\u001b[38;5;124;43m2023-08\u001b[39;49m\u001b[38;5;124;43m'\u001b[39;49m\u001b[43m]\u001b[49m\n\u001b[0;32m      2\u001b[0m new_df\n",
      "File \u001b[1;32mH:\\anaconda\\envs\\learning\\lib\\site-packages\\pandas\\core\\indexing.py:1103\u001b[0m, in \u001b[0;36m_LocationIndexer.__getitem__\u001b[1;34m(self, key)\u001b[0m\n\u001b[0;32m   1100\u001b[0m axis \u001b[38;5;241m=\u001b[39m \u001b[38;5;28mself\u001b[39m\u001b[38;5;241m.\u001b[39maxis \u001b[38;5;129;01mor\u001b[39;00m \u001b[38;5;241m0\u001b[39m\n\u001b[0;32m   1102\u001b[0m maybe_callable \u001b[38;5;241m=\u001b[39m com\u001b[38;5;241m.\u001b[39mapply_if_callable(key, \u001b[38;5;28mself\u001b[39m\u001b[38;5;241m.\u001b[39mobj)\n\u001b[1;32m-> 1103\u001b[0m \u001b[38;5;28;01mreturn\u001b[39;00m \u001b[38;5;28;43mself\u001b[39;49m\u001b[38;5;241;43m.\u001b[39;49m\u001b[43m_getitem_axis\u001b[49m\u001b[43m(\u001b[49m\u001b[43mmaybe_callable\u001b[49m\u001b[43m,\u001b[49m\u001b[43m \u001b[49m\u001b[43maxis\u001b[49m\u001b[38;5;241;43m=\u001b[39;49m\u001b[43maxis\u001b[49m\u001b[43m)\u001b[49m\n",
      "File \u001b[1;32mH:\\anaconda\\envs\\learning\\lib\\site-packages\\pandas\\core\\indexing.py:1323\u001b[0m, in \u001b[0;36m_LocIndexer._getitem_axis\u001b[1;34m(self, key, axis)\u001b[0m\n\u001b[0;32m   1321\u001b[0m \u001b[38;5;28;01mif\u001b[39;00m \u001b[38;5;28misinstance\u001b[39m(key, \u001b[38;5;28mslice\u001b[39m):\n\u001b[0;32m   1322\u001b[0m     \u001b[38;5;28mself\u001b[39m\u001b[38;5;241m.\u001b[39m_validate_key(key, axis)\n\u001b[1;32m-> 1323\u001b[0m     \u001b[38;5;28;01mreturn\u001b[39;00m \u001b[38;5;28;43mself\u001b[39;49m\u001b[38;5;241;43m.\u001b[39;49m\u001b[43m_get_slice_axis\u001b[49m\u001b[43m(\u001b[49m\u001b[43mkey\u001b[49m\u001b[43m,\u001b[49m\u001b[43m \u001b[49m\u001b[43maxis\u001b[49m\u001b[38;5;241;43m=\u001b[39;49m\u001b[43maxis\u001b[49m\u001b[43m)\u001b[49m\n\u001b[0;32m   1324\u001b[0m \u001b[38;5;28;01melif\u001b[39;00m com\u001b[38;5;241m.\u001b[39mis_bool_indexer(key):\n\u001b[0;32m   1325\u001b[0m     \u001b[38;5;28;01mreturn\u001b[39;00m \u001b[38;5;28mself\u001b[39m\u001b[38;5;241m.\u001b[39m_getbool_axis(key, axis\u001b[38;5;241m=\u001b[39maxis)\n",
      "File \u001b[1;32mH:\\anaconda\\envs\\learning\\lib\\site-packages\\pandas\\core\\indexing.py:1355\u001b[0m, in \u001b[0;36m_LocIndexer._get_slice_axis\u001b[1;34m(self, slice_obj, axis)\u001b[0m\n\u001b[0;32m   1352\u001b[0m     \u001b[38;5;28;01mreturn\u001b[39;00m obj\u001b[38;5;241m.\u001b[39mcopy(deep\u001b[38;5;241m=\u001b[39m\u001b[38;5;28;01mFalse\u001b[39;00m)\n\u001b[0;32m   1354\u001b[0m labels \u001b[38;5;241m=\u001b[39m obj\u001b[38;5;241m.\u001b[39m_get_axis(axis)\n\u001b[1;32m-> 1355\u001b[0m indexer \u001b[38;5;241m=\u001b[39m \u001b[43mlabels\u001b[49m\u001b[38;5;241;43m.\u001b[39;49m\u001b[43mslice_indexer\u001b[49m\u001b[43m(\u001b[49m\u001b[43mslice_obj\u001b[49m\u001b[38;5;241;43m.\u001b[39;49m\u001b[43mstart\u001b[49m\u001b[43m,\u001b[49m\u001b[43m \u001b[49m\u001b[43mslice_obj\u001b[49m\u001b[38;5;241;43m.\u001b[39;49m\u001b[43mstop\u001b[49m\u001b[43m,\u001b[49m\u001b[43m \u001b[49m\u001b[43mslice_obj\u001b[49m\u001b[38;5;241;43m.\u001b[39;49m\u001b[43mstep\u001b[49m\u001b[43m)\u001b[49m\n\u001b[0;32m   1357\u001b[0m \u001b[38;5;28;01mif\u001b[39;00m \u001b[38;5;28misinstance\u001b[39m(indexer, \u001b[38;5;28mslice\u001b[39m):\n\u001b[0;32m   1358\u001b[0m     \u001b[38;5;28;01mreturn\u001b[39;00m \u001b[38;5;28mself\u001b[39m\u001b[38;5;241m.\u001b[39mobj\u001b[38;5;241m.\u001b[39m_slice(indexer, axis\u001b[38;5;241m=\u001b[39maxis)\n",
      "File \u001b[1;32mH:\\anaconda\\envs\\learning\\lib\\site-packages\\pandas\\core\\indexes\\datetimes.py:651\u001b[0m, in \u001b[0;36mDatetimeIndex.slice_indexer\u001b[1;34m(self, start, end, step)\u001b[0m\n\u001b[0;32m    648\u001b[0m     raise_mask \u001b[38;5;241m=\u001b[39m (end_casted \u001b[38;5;241m==\u001b[39m \u001b[38;5;28mself\u001b[39m) \u001b[38;5;241m|\u001b[39m raise_mask\n\u001b[0;32m    650\u001b[0m \u001b[38;5;28;01mif\u001b[39;00m \u001b[38;5;129;01mnot\u001b[39;00m raise_mask\u001b[38;5;241m.\u001b[39many():\n\u001b[1;32m--> 651\u001b[0m     \u001b[38;5;28;01mraise\u001b[39;00m \u001b[38;5;167;01mKeyError\u001b[39;00m(\n\u001b[0;32m    652\u001b[0m         \u001b[38;5;124m\"\u001b[39m\u001b[38;5;124mValue based partial slicing on non-monotonic DatetimeIndexes \u001b[39m\u001b[38;5;124m\"\u001b[39m\n\u001b[0;32m    653\u001b[0m         \u001b[38;5;124m\"\u001b[39m\u001b[38;5;124mwith non-existing keys is not allowed.\u001b[39m\u001b[38;5;124m\"\u001b[39m,\n\u001b[0;32m    654\u001b[0m     )\n\u001b[0;32m    655\u001b[0m indexer \u001b[38;5;241m=\u001b[39m mask\u001b[38;5;241m.\u001b[39mnonzero()[\u001b[38;5;241m0\u001b[39m][::step]\n\u001b[0;32m    656\u001b[0m \u001b[38;5;28;01mif\u001b[39;00m \u001b[38;5;28mlen\u001b[39m(indexer) \u001b[38;5;241m==\u001b[39m \u001b[38;5;28mlen\u001b[39m(\u001b[38;5;28mself\u001b[39m):\n",
      "\u001b[1;31mKeyError\u001b[0m: 'Value based partial slicing on non-monotonic DatetimeIndexes with non-existing keys is not allowed.'"
     ]
    }
   ],
   "source": [
    "new_df = df.loc['2022-01':'2023-08']\n",
    "new_df"
   ]
  },
  {
   "cell_type": "code",
   "execution_count": null,
   "metadata": {},
   "outputs": [],
   "source": [
    "new_df.head(2)"
   ]
  },
  {
   "cell_type": "code",
   "execution_count": null,
   "metadata": {},
   "outputs": [],
   "source": [
    "#买股票：找每个月的第一个交易日对应的行数据（捕获到开盘价）==》每月的第一行数据\n",
    "#根据月份从原始数据中提取指定的数据\n",
    "#每月第一个交易日对应的行数据\n",
    "df_monthly = new_df.resample('M').first()#数据的重新取样\n",
    "df_monthly"
   ]
  },
  {
   "cell_type": "code",
   "execution_count": null,
   "metadata": {},
   "outputs": [],
   "source": [
    "#买入股票花费的总金额\n",
    "cost = df_monthly['open'].sum()*100\n",
    "cost"
   ]
  },
  {
   "cell_type": "code",
   "execution_count": null,
   "metadata": {
    "scrolled": true
   },
   "outputs": [],
   "source": [
    "#卖出股票到手的钱\n",
    "#特殊情况：2020年买入的股票卖不出去\n",
    "new_df.resample('A').last()\n",
    "#将2020年最后一行切出去\n",
    "df_yearly = new_df.resample('A').last()[:-1]\n",
    "df_yearly"
   ]
  },
  {
   "cell_type": "code",
   "execution_count": null,
   "metadata": {},
   "outputs": [],
   "source": [
    "#卖出股票到手的钱\n",
    "resv = df_yearly['open'].sum()*1200\n",
    "resv"
   ]
  },
  {
   "cell_type": "code",
   "execution_count": null,
   "metadata": {},
   "outputs": [],
   "source": [
    "#最后手中剩余的股票需要估量其价值计算到总收益中\n",
    "#使用昨天的收盘价作为剩余股票的单价\n",
    "last_monry = 200*new_df['close'][-1]"
   ]
  },
  {
   "cell_type": "code",
   "execution_count": null,
   "metadata": {},
   "outputs": [],
   "source": [
    "#计算总收益\n",
    "resv+last_monry-cost"
   ]
  },
  {
   "cell_type": "markdown",
   "metadata": {},
   "source": [
    "### 需求：双均线策略制定"
   ]
  },
  {
   "cell_type": "markdown",
   "metadata": {},
   "source": [
    "- 使用tushare包获取某股票的历史行情数据"
   ]
  },
  {
   "cell_type": "code",
   "execution_count": null,
   "metadata": {},
   "outputs": [],
   "source": []
  },
  {
   "cell_type": "markdown",
   "metadata": {},
   "source": [
    "- 计算该股票历史数据的5日均线和60日均线\n",
    "    - 什么是均线？\n",
    "        - 对于每一个交易日，都可以计算出前N天的移动平均值，然后把这些移动平均值连起来，成为一条线，就叫做N日移动平均线。移动平均线常用线有5天、10天、30天、60天、120天和240天的指标。\n",
    "       - 5天和10天的是短线操作的参照指标，称做日均线指标；\n",
    "       - 30天和60天的是中期均线指标，称做季均线指标；\n",
    "       - 120天和240天的是长期均线指标，称做年均线指标。\n",
    "    - 均线计算方法：MA=（C1+C2+C3+...+Cn)/N C:某日收盘价 N:移动平均周期（天数）"
   ]
  },
  {
   "cell_type": "code",
   "execution_count": null,
   "metadata": {
    "scrolled": true
   },
   "outputs": [],
   "source": []
  },
  {
   "cell_type": "markdown",
   "metadata": {},
   "source": [
    "- 可视化历史数据的收盘价和两条均线"
   ]
  },
  {
   "cell_type": "markdown",
   "metadata": {},
   "source": [
    "- 分析输出所有金叉日期和死叉日期\n",
    "    - 股票分析技术中的金叉和死叉，可以简单解释为：\n",
    "        - 分析指标中的两根线，一根为短时间内的指标线，另一根为较长时间的指标线。\n",
    "        - 如果短时间的指标线方向拐头向上，并且穿过了较长时间的指标线，这种状态叫“金叉”；\n",
    "        - 如果短时间的指标线方向拐头向下，并且穿过了较长时间的指标线，这种状态叫“死叉”；\n",
    "        - 一般情况下，出现金叉后，操作趋向买入；死叉则趋向卖出。当然，金叉和死叉只是分析指标之一，要和其他很多指标配合使用，才能增加操作的准确性。"
   ]
  },
  {
   "cell_type": "code",
   "execution_count": null,
   "metadata": {},
   "outputs": [],
   "source": []
  },
  {
   "cell_type": "markdown",
   "metadata": {},
   "source": [
    "- 如果我从假如我从2010年1月1日开始，初始资金为100000元，金叉尽量买入，死叉全部卖出，则到今天为止，我的炒股收益率如何？"
   ]
  },
  {
   "cell_type": "code",
   "execution_count": null,
   "metadata": {},
   "outputs": [],
   "source": []
  }
 ],
 "metadata": {
  "kernelspec": {
   "display_name": "Python 3 (ipykernel)",
   "language": "python",
   "name": "python3"
  },
  "language_info": {
   "codemirror_mode": {
    "name": "ipython",
    "version": 3
   },
   "file_extension": ".py",
   "mimetype": "text/x-python",
   "name": "python",
   "nbconvert_exporter": "python",
   "pygments_lexer": "ipython3",
   "version": "3.8.17"
  }
 },
 "nbformat": 4,
 "nbformat_minor": 2
}
